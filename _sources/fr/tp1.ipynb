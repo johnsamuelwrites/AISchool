{
 "cells": [
  {
   "cell_type": "markdown",
   "id": "d2b18865",
   "metadata": {},
   "source": [
    "# TP 1\n",
    "\n",
    "## 0bjectifs\n",
    "\n",
    "* Comprendre les bases de la programmation Python :\n",
    "* Variables, types de données, listes, ensembles et tuples.\n",
    "* Expressions conditionnelles et boucles\n",
    "* Trier\n",
    "* Dictionnaire\n",
    "* Fichiers et interaction avec les utilisateurs"
   ]
  },
  {
   "cell_type": "markdown",
   "id": "8301839b",
   "metadata": {},
   "source": [
    "## Exercice 1\n",
    "\n",
    "1\\. Commentaires\n"
   ]
  },
  {
   "cell_type": "code",
   "execution_count": null,
   "id": "ed5cdf23",
   "metadata": {},
   "outputs": [],
   "source": [
    "# Ceci est un commentaire\n",
    "print(\"Bonjour\")"
   ]
  },
  {
   "cell_type": "markdown",
   "id": "ad624f62",
   "metadata": {},
   "source": [
    "2\\. Variables\n",
    "\n"
   ]
  },
  {
   "cell_type": "code",
   "execution_count": null,
   "id": "b85e3352",
   "metadata": {},
   "outputs": [],
   "source": [
    "# une variable\n",
    "message = \"le monde!\"\n",
    "print(message)"
   ]
  },
  {
   "cell_type": "code",
   "execution_count": null,
   "id": "e3f7f071",
   "metadata": {},
   "outputs": [],
   "source": [
    "a = 10\n",
    "b = 20\n",
    "c = a + b\n",
    "print(c)"
   ]
  },
  {
   "cell_type": "code",
   "execution_count": null,
   "id": "e97278f0",
   "metadata": {},
   "outputs": [],
   "source": [
    "# nombres réels\n",
    "pi = 3.14\n",
    "print(pi)"
   ]
  },
  {
   "cell_type": "code",
   "execution_count": null,
   "id": "f484942c",
   "metadata": {},
   "outputs": [],
   "source": [
    "# types de donnés\n",
    "message1 = \"Bonjour\"\n",
    "a = 12\n",
    "pi = 3.14\n",
    "print(type(message1))\n",
    "print(type(a))\n",
    "print(type(pi))"
   ]
  },
  {
   "cell_type": "markdown",
   "id": "f2b2658e",
   "metadata": {},
   "source": [
    "3\\. Concaténation de deux chaînes de caractères\n",
    "\n"
   ]
  },
  {
   "cell_type": "code",
   "execution_count": null,
   "id": "d13276f9",
   "metadata": {},
   "outputs": [],
   "source": [
    "# Concaténation de deux chaînes de caractères\n",
    "message = \"le monde!\"\n",
    "print(\"Bonjour\" + message)"
   ]
  },
  {
   "cell_type": "code",
   "execution_count": null,
   "id": "0f6a5bdd",
   "metadata": {},
   "outputs": [],
   "source": [
    "# Concaténation de deux chaînes de caractères\n",
    "message1 = \"Bonjour \"\n",
    "message2 = \"le monde!\"\n",
    "print(message1 + message2)"
   ]
  },
  {
   "cell_type": "code",
   "execution_count": null,
   "id": "7288eabc",
   "metadata": {},
   "outputs": [],
   "source": [
    "# concaténation de deux variables de types de données différents\n",
    "# opération + sur deux types de données différents\n",
    "\n",
    "# Supprimer le commentaire ci-dessous et lancer le code\n",
    "message1 = \"Bonjour en Python\"\n",
    "a = 3\n",
    "#print(message1 + a)"
   ]
  },
  {
   "cell_type": "markdown",
   "id": "82279fc4",
   "metadata": {},
   "source": [
    "Pourquoi cette erreur ? Dans le code suivant, nous corrigeons cette erreur."
   ]
  },
  {
   "cell_type": "code",
   "execution_count": null,
   "id": "e6a355bb",
   "metadata": {},
   "outputs": [],
   "source": [
    "# solution de concaténation entre deux variables de types de données différents\n",
    "message1 = \"Bonjour en Python \"\n",
    "a = 3\n",
    "print(message1 + str(a))"
   ]
  },
  {
   "cell_type": "markdown",
   "id": "6c780c71",
   "metadata": {},
   "source": [
    "4\\. Listes"
   ]
  },
  {
   "cell_type": "code",
   "execution_count": null,
   "id": "e6fa6978",
   "metadata": {},
   "outputs": [],
   "source": [
    "a = [10, 20, 30, 40, 50]\n",
    "print(a)"
   ]
  },
  {
   "cell_type": "code",
   "execution_count": null,
   "id": "320ade50",
   "metadata": {},
   "outputs": [],
   "source": [
    "a = [10, 20, 30, 40, 50]\n",
    "print(a[0])\n",
    "print(a[1])\n",
    "print(a[2])\n",
    "print(a[3])\n",
    "print(a[4])"
   ]
  },
  {
   "cell_type": "code",
   "execution_count": null,
   "id": "cc17821c",
   "metadata": {},
   "outputs": [],
   "source": [
    "#Supprimer le commentaire ci-dessous et lancer le code\n",
    "a = [10, 20, 30, 40, 50]\n",
    "#print(a[8])"
   ]
  },
  {
   "cell_type": "markdown",
   "id": "a73bc222",
   "metadata": {},
   "source": [
    "Nous essayons d'accéder à un élément à un index qui n'existe pas"
   ]
  },
  {
   "cell_type": "code",
   "execution_count": null,
   "id": "02ef5a2d",
   "metadata": {},
   "outputs": [],
   "source": [
    "message1 = \"Bonjour en Python \"\n",
    "print(message1[0])\n",
    "print(message1[1])\n",
    "print(message1[2])\n",
    "print(message1[3])\n",
    "print(message1[4])\n",
    "print(message1[5])\n",
    "print(message1[6])\n",
    "print(message1[7])"
   ]
  },
  {
   "cell_type": "markdown",
   "id": "8bd0456c",
   "metadata": {},
   "source": [
    "Le code ci-dessus affiche les différents caractères de la chaîne (ou liste de caractères).\n",
    "Nous allons maintenant obtenir la longueur de cette chaîne."
   ]
  },
  {
   "cell_type": "code",
   "execution_count": null,
   "id": "bb59369b",
   "metadata": {},
   "outputs": [],
   "source": [
    "message1 = \"Bonjour en Python \"\n",
    "print(len(message1))"
   ]
  },
  {
   "cell_type": "markdown",
   "id": "8024dca4",
   "metadata": {},
   "source": [
    "Nous allons maintenant créer une liste d'entiers"
   ]
  },
  {
   "cell_type": "code",
   "execution_count": null,
   "id": "bfd47c49",
   "metadata": {},
   "outputs": [],
   "source": [
    "a = [10, 20, 30, 40, 50]\n",
    "print(len(a))"
   ]
  },
  {
   "cell_type": "code",
   "execution_count": null,
   "id": "0af23351",
   "metadata": {},
   "outputs": [],
   "source": [
    "a = [10, 20, 30, 40, 50]\n",
    "\n",
    "# ajouter un nouveau numéro à la fin de la liste\n",
    "a.append(60)\n",
    "print(a)"
   ]
  },
  {
   "cell_type": "code",
   "execution_count": null,
   "id": "0cac6345",
   "metadata": {},
   "outputs": [],
   "source": [
    "a = [10, 20, 30, 40, 50]\n",
    "\n",
    "# modifier un numéro à un index donné\n",
    "a[0] = 0\n",
    "print(a)"
   ]
  },
  {
   "cell_type": "code",
   "execution_count": null,
   "id": "e483af85",
   "metadata": {},
   "outputs": [],
   "source": [
    "#Supprimer le commentaire ci-dessous et lancer le code\n",
    "a = [10, 20, 30, 40, 50]\n",
    "\n",
    "#a[6] = 20\n",
    "print(a)"
   ]
  },
  {
   "cell_type": "markdown",
   "id": "67031d0b",
   "metadata": {},
   "source": [
    "Pourquoi cette erreur? Nous modifions un élément à un indice inexistant."
   ]
  },
  {
   "cell_type": "code",
   "execution_count": null,
   "id": "10eadb93",
   "metadata": {},
   "outputs": [],
   "source": [
    "a = [10, 20, 30, 40, 50]\n",
    "\n",
    "# l'insertion d'un élément à un index particulier modifiera la liste\n",
    "a.insert(0, 0)\n",
    "print(a)\n",
    "print(len(a))"
   ]
  },
  {
   "cell_type": "code",
   "execution_count": null,
   "id": "b2fadcda",
   "metadata": {},
   "outputs": [],
   "source": [
    "a = [10, 20, 30, 40, 50]\n",
    "a.insert(6,60)\n",
    "print(a)\n",
    "print(len(a))"
   ]
  },
  {
   "cell_type": "code",
   "execution_count": null,
   "id": "bb5805e9",
   "metadata": {},
   "outputs": [],
   "source": [
    "a = [10, 20, 30, 40, 50]\n",
    "\n",
    "# Nous allons maintenant essayer d'insérer un nombre à un index plus grand que la longueur\n",
    "# de la liste. Nous veillerons à ce qu'il n'y ait pas d'erreur et le nouveau numéro\n",
    "# est ajouté à la fin de la liste\n",
    "a.insert(10,60)\n",
    "print(a)\n",
    "print(len(a))"
   ]
  },
  {
   "cell_type": "markdown",
   "id": "c3711286",
   "metadata": {},
   "source": [
    "5\\. Tuples (listes non-modifiables)\n",
    "\n"
   ]
  },
  {
   "cell_type": "code",
   "execution_count": null,
   "id": "9b2b3760",
   "metadata": {},
   "outputs": [],
   "source": [
    "a = (10, 20, 30, 40, 50)\n",
    "print(a)"
   ]
  },
  {
   "cell_type": "code",
   "execution_count": null,
   "id": "985e9559",
   "metadata": {},
   "outputs": [],
   "source": [
    "a = (10, 20, 30, 40, 50)\n",
    "print(a[0])"
   ]
  },
  {
   "cell_type": "code",
   "execution_count": null,
   "id": "25d05d9a",
   "metadata": {},
   "outputs": [],
   "source": [
    "a = (10, 20, 30, 40, 50)\n",
    "\n",
    "\n",
    "# Nous essayons maintenant de modifier un tuple\n",
    "# Décommentez le code ci-dessous et lancez le code\n",
    "# Un tupe est une liste non modifiable\n",
    "\n",
    "#a[0] = 0\n",
    "print(a)"
   ]
  },
  {
   "cell_type": "markdown",
   "id": "e4d560ec",
   "metadata": {},
   "source": [
    "6\\. Sets\n",
    "\n"
   ]
  },
  {
   "cell_type": "code",
   "execution_count": null,
   "id": "6bb22cc7",
   "metadata": {},
   "outputs": [],
   "source": [
    "# Un ensemble(Set) est une collection d'éléments distincts\n",
    "\n",
    "a = {10, 20, 30, 40, 50, 10, 20, 30, 40, 50}\n",
    "print(a)"
   ]
  },
  {
   "cell_type": "code",
   "execution_count": null,
   "id": "4e4dccad",
   "metadata": {},
   "outputs": [],
   "source": [
    "a = {10, 20, 30, 40, 50, 10, 20, 30, 40, 50}\n",
    "a.add(10)\n",
    "print(a)"
   ]
  },
  {
   "cell_type": "code",
   "execution_count": null,
   "id": "806c0e1d",
   "metadata": {},
   "outputs": [],
   "source": [
    "a = {10, 20, 30, 40, 50, 10, 20, 30, 40, 50}\n",
    "a.add(60)\n",
    "print(a)"
   ]
  },
  {
   "cell_type": "code",
   "execution_count": null,
   "id": "5843d9a6",
   "metadata": {},
   "outputs": [],
   "source": [
    "a = {10, 20, 30, 40, 50, 10, 20, 30, 40, 50}\n",
    "a.remove(40)\n",
    "print(a)"
   ]
  },
  {
   "cell_type": "markdown",
   "id": "e2c05651",
   "metadata": {},
   "source": [
    "Nous allons maintenant essayer différents types de données avec les chiffres et afficher le résultat."
   ]
  },
  {
   "cell_type": "code",
   "execution_count": null,
   "id": "7ae0eb7e",
   "metadata": {},
   "outputs": [],
   "source": [
    "# set\n",
    "a = {10, 20, 30, 40, 50, 10, 20, 30, 40, 50}\n",
    "print(a)\n",
    "print(type(a))\n",
    " \n",
    "# tuple\n",
    "b = (10, 20, 30, 40, 50, 10, 20, 30, 40, 50)\n",
    "print(b)\n",
    "print(type(b))\n",
    " \n",
    "# list\n",
    "c= [10, 20, 30, 40, 50, 10, 20, 30, 40, 50]\n",
    "print(c)\n",
    "print(type(c))\n"
   ]
  },
  {
   "cell_type": "markdown",
   "id": "ba215bf4",
   "metadata": {},
   "source": [
    "## Exercice 2\n",
    "\n",
    "1\\. Expressions conditionnelles\n"
   ]
  },
  {
   "cell_type": "code",
   "execution_count": null,
   "id": "cf80521c",
   "metadata": {},
   "outputs": [],
   "source": [
    "a = 12\n",
    "if( a%2 == 0):\n",
    "    print(a, \" is divisible by 2\")\n",
    "else:\n",
    "    print(a, \" is not divisible by 2\")"
   ]
  },
  {
   "cell_type": "code",
   "execution_count": null,
   "id": "89eb3869",
   "metadata": {},
   "outputs": [],
   "source": [
    "lang = \"Français\"\n",
    "if (lang ==\"Français\"):\n",
    "    print(\"Bonjour le monde!\")\n",
    "else:\n",
    "    print(\"Hello World!\")"
   ]
  },
  {
   "cell_type": "markdown",
   "id": "908511ed",
   "metadata": {},
   "source": [
    "2\\. Boucles\n",
    "\n",
    "Les boucles peuvent également être utilisées pour accéder aux éléments de différents indices."
   ]
  },
  {
   "cell_type": "code",
   "execution_count": null,
   "id": "135fe16f",
   "metadata": {},
   "outputs": [],
   "source": [
    "# liste\n",
    "for i in [10, 20, 30, 40, 50, 10, 20, 30, 40, 50]:\n",
    "    print(i)"
   ]
  },
  {
   "cell_type": "code",
   "execution_count": null,
   "id": "995458a3",
   "metadata": {},
   "outputs": [],
   "source": [
    "# tuples\n",
    "for i in (10, 20, 30, 40, 50, 10, 20, 30, 40, 50):\n",
    "    print(i)"
   ]
  },
  {
   "cell_type": "code",
   "execution_count": null,
   "id": "cd6f4644",
   "metadata": {},
   "outputs": [],
   "source": [
    "# set\n",
    "for i in {10, 20, 30, 40, 50, 10, 20, 30, 40, 50}:\n",
    "    print(i)"
   ]
  },
  {
   "cell_type": "markdown",
   "id": "7538620b",
   "metadata": {},
   "source": [
    "2\\. Limites\n",
    "\n"
   ]
  },
  {
   "cell_type": "code",
   "execution_count": null,
   "id": "52285663",
   "metadata": {},
   "outputs": [],
   "source": [
    "for i in range(0,10):\n",
    "    print(i)"
   ]
  },
  {
   "cell_type": "code",
   "execution_count": null,
   "id": "d5f99083",
   "metadata": {},
   "outputs": [],
   "source": [
    "for i in range(0,10,2):\n",
    "    print(i)"
   ]
  },
  {
   "cell_type": "code",
   "execution_count": null,
   "id": "02065de3",
   "metadata": {},
   "outputs": [],
   "source": [
    "# print() par défaut affiche le message suivi d'une nouvelle ligne\n",
    "# Mais vous pouvez changer son comportement\n",
    "\n",
    "for i in range(0,10,2):\n",
    "    print(i, end=' ')"
   ]
  },
  {
   "cell_type": "code",
   "execution_count": null,
   "id": "6ee3bb0e",
   "metadata": {},
   "outputs": [],
   "source": [
    "for i in range(10,0,-2):\n",
    "    print(i)"
   ]
  },
  {
   "cell_type": "code",
   "execution_count": null,
   "id": "6d0ea8af",
   "metadata": {},
   "outputs": [],
   "source": [
    "for i in range(10,0):\n",
    "    print(i)"
   ]
  },
  {
   "cell_type": "markdown",
   "id": "40cbf0c7",
   "metadata": {},
   "source": [
    "split(): La fonction peut être utilisée pour séparer une chaîne de caractères en utilisant \n",
    "un délimiteur spécifié. Par défaut, le délimiteur est un espace blanc."
   ]
  },
  {
   "cell_type": "code",
   "execution_count": null,
   "id": "68060c0c",
   "metadata": {},
   "outputs": [],
   "source": [
    "for i in \"Bonjour,le,monde!\".split():\n",
    "    print(i)"
   ]
  },
  {
   "cell_type": "code",
   "execution_count": null,
   "id": "7bd440a7",
   "metadata": {},
   "outputs": [],
   "source": [
    "for i in \"Bonjour,le,monde!\".split(\",\"):\n",
    "    print(i)"
   ]
  },
  {
   "cell_type": "markdown",
   "id": "c279a09a",
   "metadata": {},
   "source": [
    "Write a program in Python to display the following output\n",
    "\n",
    "  \n",
    " 1\n",
    " \n",
    " 12\n",
    " \n",
    " 123\n",
    " \n",
    " 1234\n",
    " \n",
    " 12345\n",
    " \n",
    " 123456\n",
    " \n",
    " 1234567\n",
    " \n",
    " 12345678"
   ]
  },
  {
   "cell_type": "markdown",
   "id": "ee07e3f8",
   "metadata": {},
   "source": [
    "## Exercice 3\n",
    "\n",
    "1\\. Tri\n",
    "\n"
   ]
  },
  {
   "cell_type": "code",
   "execution_count": null,
   "id": "1f2096cd",
   "metadata": {},
   "outputs": [],
   "source": [
    "num = [10, 20, 30, 40, 50, 10, 20, 30, 40, 50]\n",
    "num.sort()\n",
    "print(num)"
   ]
  },
  {
   "cell_type": "markdown",
   "id": "b52f32b8",
   "metadata": {},
   "source": [
    "2\\. Tri (ordre décroissant)\n",
    "\n"
   ]
  },
  {
   "cell_type": "code",
   "execution_count": null,
   "id": "3f9a57c2",
   "metadata": {},
   "outputs": [],
   "source": [
    "num = [10, 20, 30, 40, 50, 10, 20, 30, 40, 50]\n",
    "num.sort(reverse=True)\n",
    "print(num)"
   ]
  },
  {
   "cell_type": "markdown",
   "id": "08ea8958",
   "metadata": {},
   "source": [
    "3\\. minimum\n",
    "\n"
   ]
  },
  {
   "cell_type": "code",
   "execution_count": null,
   "id": "64bee869",
   "metadata": {},
   "outputs": [],
   "source": [
    "num = [10, 20, 30, 40, 50, 10, 20, 30, 40, 50]\n",
    "print(min(num))"
   ]
  },
  {
   "cell_type": "markdown",
   "id": "c66852ab",
   "metadata": {},
   "source": [
    "4\\. maximum\n",
    "\n"
   ]
  },
  {
   "cell_type": "code",
   "execution_count": null,
   "id": "3e457c9b",
   "metadata": {},
   "outputs": [],
   "source": [
    "num = [10, 20, 30, 40, 50, 10, 20, 30, 40, 50]\n",
    "print(max(num))"
   ]
  },
  {
   "cell_type": "markdown",
   "id": "e6ae823d",
   "metadata": {},
   "source": [
    "5\\. sorted()\n",
    "\n",
    "Vous pouvez utiliser cette fonction si vous ne souhaitez pas modifier votre liste initiale par un tri."
   ]
  },
  {
   "cell_type": "code",
   "execution_count": null,
   "id": "2657a185",
   "metadata": {},
   "outputs": [],
   "source": [
    "num = [70, 20, 30, 10, 50, 60, 20, 80, 70, 50]\n",
    "tri = sorted(num,reverse=True)\n",
    "print(num)\n",
    "print(tri)"
   ]
  },
  {
   "cell_type": "code",
   "execution_count": null,
   "id": "66dc661c",
   "metadata": {},
   "outputs": [],
   "source": [
    "num = [70, 20, 30, 10, 50, 60, 20, 80, 70, 50]\n",
    "\n",
    "# sélectionner les cinq premiers numéros\n",
    "tri = sorted(num,reverse=True)[:5]\n",
    "print(tri)"
   ]
  },
  {
   "cell_type": "markdown",
   "id": "9bf5be9f",
   "metadata": {},
   "source": [
    "Modifiez le code donné ci-dessous pour afficher les cinq plus grands numéros uniques.\n"
   ]
  },
  {
   "cell_type": "code",
   "execution_count": null,
   "id": "368e5bf6",
   "metadata": {},
   "outputs": [],
   "source": [
    "print(sorted(\"Bonjour le monde!\".split(), key=str.lower, \n",
    "           reverse=True))"
   ]
  },
  {
   "cell_type": "markdown",
   "id": "1283ecea",
   "metadata": {},
   "source": [
    "## Exercice 4\n",
    "\n",
    "1\\. Dictionnaire\n",
    "\n"
   ]
  },
  {
   "cell_type": "code",
   "execution_count": null,
   "id": "0fe01065",
   "metadata": {},
   "outputs": [],
   "source": [
    "a = {\"contente\": 12, \"content\": 12, \"triste\": 2}\n",
    "print(a)\n",
    "print(type(a))"
   ]
  },
  {
   "cell_type": "code",
   "execution_count": null,
   "id": "cee3bc3a",
   "metadata": {},
   "outputs": [],
   "source": [
    "a = {\"contente\": 12, \"content\": 12, \"triste\": 2}\n",
    "for key in a:\n",
    "    print(\"la phrase \", key, \" apparait \", a[key], \" fois\")\n"
   ]
  },
  {
   "cell_type": "code",
   "execution_count": null,
   "id": "5e7e0047",
   "metadata": {},
   "outputs": [],
   "source": [
    "a = {\"contente\": 12, \"content\": 12, \"triste\": 2}\n",
    "for key,value in a.items():\n",
    "    print(\"la phrase \", key, \" apparait \", value, \" fois\")"
   ]
  },
  {
   "cell_type": "code",
   "execution_count": null,
   "id": "e1d289e3",
   "metadata": {},
   "outputs": [],
   "source": [
    "a = {\"contente\": 12, \"content\": 12, \"triste\": 2}\n",
    "a[\"joie\"] = 10\n",
    "print(a)"
   ]
  },
  {
   "cell_type": "code",
   "execution_count": null,
   "id": "a4dcdd04",
   "metadata": {},
   "outputs": [],
   "source": [
    "a = {\"contente\": 12, \"content\": 12, \"triste\": 2}\n",
    "del a[\"triste\"]\n",
    "print(a)"
   ]
  },
  {
   "cell_type": "code",
   "execution_count": null,
   "id": "145800b0",
   "metadata": {},
   "outputs": [],
   "source": [
    "mots = {\"contente\": 12, \"content\": 12, \"triste\": 2, \n",
    "     \"joie\" : 10}\n",
    "print(sorted(mots))"
   ]
  },
  {
   "cell_type": "code",
   "execution_count": null,
   "id": "660dd38b",
   "metadata": {},
   "outputs": [],
   "source": [
    "mots = {\"contente\": 12, \"content\": 12, \"triste\": 2, \n",
    "     \"joie\" : 10}\n",
    "mots_tuple = [(key, value) for key,value in mots.items()]\n",
    "print(mots_tuple)"
   ]
  },
  {
   "cell_type": "markdown",
   "id": "412327b7",
   "metadata": {},
   "source": [
    "2\\. itemgetter"
   ]
  },
  {
   "cell_type": "code",
   "execution_count": null,
   "id": "9b3e22c7",
   "metadata": {},
   "outputs": [],
   "source": [
    "from operator import itemgetter\n",
    " \n",
    "mots = {\"contente\": 12, \"content\": 12, \"triste\": 2, \n",
    "     \"joie\" : 10}\n",
    "mots_tuple = [(key, value) for key,value in mots.items()]\n",
    "print(sorted(mots_tuple, key=itemgetter(1)))"
   ]
  },
  {
   "cell_type": "markdown",
   "id": "28801341",
   "metadata": {},
   "source": [
    "3\\. Interaction with user"
   ]
  },
  {
   "cell_type": "code",
   "execution_count": null,
   "id": "1d8c48d5",
   "metadata": {},
   "outputs": [],
   "source": [
    "#nom = input(\"Quel est votre nom?\")\n",
    "#print(nom)"
   ]
  },
  {
   "cell_type": "code",
   "execution_count": null,
   "id": "35e295bf",
   "metadata": {},
   "outputs": [],
   "source": [
    "#age = input(\"Quel est votre âge? \")\n",
    "#print(age)\n",
    "#print(type(age))"
   ]
  },
  {
   "cell_type": "code",
   "execution_count": null,
   "id": "ead505cb",
   "metadata": {},
   "outputs": [],
   "source": [
    "#age = input(\"Quel est votre âge? \")\n",
    "#age = int(age)\n",
    "#print(age)\n",
    "#print(type(age))"
   ]
  },
  {
   "cell_type": "markdown",
   "id": "679e6b49",
   "metadata": {},
   "source": [
    "**Question:** Ecrire un programme en Python qui interagit avec l'utilisateur pour\n",
    "obtenir les informations suivantes de 5 étudiants :\n",
    "\n",
    "- Nom de l'étudiant\n",
    "- Âge\n",
    "- Grades en 5 modules"
   ]
  },
  {
   "cell_type": "markdown",
   "id": "b0516dfe",
   "metadata": {},
   "source": [
    "## Exercice 5\n",
    "\n",
    "Lire et écrire dans un fichier"
   ]
  },
  {
   "cell_type": "markdown",
   "id": "6e54b860",
   "metadata": {},
   "source": [
    "1\\. Fichiers\n"
   ]
  },
  {
   "cell_type": "code",
   "execution_count": null,
   "id": "5daadf6d",
   "metadata": {},
   "outputs": [],
   "source": [
    "# écrire dans un fichier\n",
    "message = \"Bonjour le monde\"\n",
    "with open(\"bonjour.txt\", \"w\") as file:\n",
    "    file.write(message)\n",
    "file.close()"
   ]
  },
  {
   "cell_type": "code",
   "execution_count": null,
   "id": "84fca8c4",
   "metadata": {},
   "outputs": [],
   "source": [
    "# lire un fichier\n",
    "with open(\"bonjour.txt\", \"r\") as file:\n",
    "    text = file.read()\n",
    "    print(text)\n",
    "file.close()"
   ]
  },
  {
   "cell_type": "code",
   "execution_count": null,
   "id": "bf878681",
   "metadata": {},
   "outputs": [],
   "source": [
    "# écrire dans un fichier\n",
    "message1 = \"Bonjour le monde\"\n",
    "message2 = \"Programmation en Python\"\n",
    "with open(\"bonjour.txt\", \"w\") as file:\n",
    "    file.write(message1)\n",
    "    file.write(message2)\n",
    "file.close()"
   ]
  },
  {
   "cell_type": "code",
   "execution_count": null,
   "id": "3c15d36a",
   "metadata": {},
   "outputs": [],
   "source": [
    "# lire un fichier\n",
    "with open(\"bonjour.txt\", \"r\") as file:\n",
    "    text = file.read()\n",
    "    print(text)\n",
    "file.close()"
   ]
  },
  {
   "cell_type": "code",
   "execution_count": null,
   "id": "70cfb358",
   "metadata": {},
   "outputs": [],
   "source": [
    "# Rédaction dans un fichier en utilisant le caractère de nouvelle ligne\n",
    "message1 = \"Bonjour le monde\\n\"\n",
    "message2 = \"Programmation en Python\"\n",
    "with open(\"bonjour.txt\", \"w\") as file:\n",
    "    file.write(message1)\n",
    "    file.write(message2)\n",
    "file.close()\n",
    " \n",
    "with open(\"bonjour.txt\", \"r\") as file:\n",
    "    text = file.read()\n",
    "    print(text)\n",
    "file.close()"
   ]
  },
  {
   "cell_type": "markdown",
   "id": "01d16cf3",
   "metadata": {},
   "source": [
    "2\\. readline()\n",
    "\n",
    "Cette fonction peut être utilisée pour lire un fichier ligne par ligne et non le contenu complet en un seul appel comme read()"
   ]
  },
  {
   "cell_type": "code",
   "execution_count": null,
   "id": "b8429681",
   "metadata": {},
   "outputs": [],
   "source": [
    "message1 = \"Bonjour le monde\\n\"\n",
    "message2 = \"Programmation en Python\"\n",
    "with open(\"bonjour.txt\", \"w\") as file:\n",
    "    file.write(message1)\n",
    "    file.write(message2)\n",
    "file.close()"
   ]
  },
  {
   "cell_type": "code",
   "execution_count": null,
   "id": "7fd9a1b6",
   "metadata": {},
   "outputs": [],
   "source": [
    "with open(\"bonjour.txt\", \"r\") as file:\n",
    "    text = file.readline()\n",
    "    print(text)\n",
    "file.close()"
   ]
  },
  {
   "cell_type": "code",
   "execution_count": null,
   "id": "f9e7a7ec",
   "metadata": {},
   "outputs": [],
   "source": [
    "message1 = \"Bonjour le monde\\n\"\n",
    "message2 = \"Programmation en Python\\n\"\n",
    "with open(\"bonjour.txt\", \"w\") as file:\n",
    "    file.write(message1)\n",
    "    file.write(message2)\n",
    "file.close()"
   ]
  },
  {
   "cell_type": "code",
   "execution_count": null,
   "id": "39f0515c",
   "metadata": {},
   "outputs": [],
   "source": [
    "with open(\"bonjour.txt\", \"r\") as file:\n",
    "    for line in file:\n",
    "        print(line)\n",
    "file.close()"
   ]
  },
  {
   "cell_type": "markdown",
   "id": "8db5dbd0",
   "metadata": {},
   "source": [
    "**Question:** Copiez un fichier texte dans votre répertoire. Ecrire un programme\n",
    "en Python pour obtenir les valeurs suivantes :\n",
    "\n",
    "- nombre de caractères dans le fichier \n",
    "- nombre de lignes dans le fichier\n",
    "- nombre de mots dans le fichier\n",
    "- les vingt premiers mots du fichier \n",
    "- des mots distincts dans le fichier"
   ]
  }
 ],
 "metadata": {
  "kernelspec": {
   "display_name": "Python 3",
   "language": "python",
   "name": "python3"
  },
  "language_info": {
   "codemirror_mode": {
    "name": "ipython",
    "version": 3
   },
   "file_extension": ".py",
   "mimetype": "text/x-python",
   "name": "python",
   "nbconvert_exporter": "python",
   "pygments_lexer": "ipython3",
   "version": "3.8.10"
  }
 },
 "nbformat": 4,
 "nbformat_minor": 5
}
