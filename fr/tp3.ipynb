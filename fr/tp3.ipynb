{
 "cells": [
  {
   "cell_type": "markdown",
   "id": "ec7bd3e7",
   "metadata": {},
   "source": [
    "# TP 3\n",
    "\n",
    "## Reconnaissance de l'écriture manuscrite\n",
    "Nous allons maintenant reconnaître les caractères manuscrits. Nous avons une collection d'images de chiffres et nous avons également leurs étiquettes (chiffre associé).\n",
    "\n",
    "Nous allons d'abord entraîner notre modèle à reconnaître la moitié de ces images, puis nous allons prédire les valeurs de l'autre moitié."
   ]
  },
  {
   "cell_type": "code",
   "execution_count": null,
   "id": "b5729173",
   "metadata": {},
   "outputs": [],
   "source": [
    "from sklearn import datasets, svm\n",
    "import numpy as np\n",
    "import matplotlib.pyplot as plot\n",
    "  \n",
    "digits = datasets.load_digits()\n",
    "  \n",
    "training_images = digits.images[:int(digits.images.shape[0]/2)]\n",
    "training_images = training_images.reshape(\n",
    "                 (training_images.shape[0], -1))\n",
    "  \n",
    "training_target = digits.target[0:int(digits.target.shape[0]/2)]\n",
    "  \n",
    "for i in range(1, 5):\n",
    "    training_image = digits.images[i]\n",
    "    print(\"Étiquette pour l'image : \", training_target[i])\n",
    "\n",
    "    plot.figure(figsize=(2,2))\n",
    "    plot.imshow(training_image, cmap=plot.cm.gray_r)\n",
    "    plot.show()"
   ]
  },
  {
   "cell_type": "code",
   "execution_count": null,
   "id": "22e664b9",
   "metadata": {},
   "outputs": [],
   "source": [
    "#apprentissage\n",
    "classifier = svm.SVC(gamma=0.001, C=100.)\n",
    "classifier.fit(training_images, training_target)\n",
    "  \n",
    "#prédiction\n",
    "for i in range(1, 5):\n",
    "    predict_image = digits.images[int(digits.images.shape[0]/2)+i]\n",
    "    print(\"La valeur prédite est de : \",\n",
    "          classifier.predict(predict_image.reshape(1,-1)))\n",
    "\n",
    "    plot.figure(figsize=(2,2))\n",
    "    plot.imshow(predict_image, cmap=plot.cm.gray_r)\n",
    "    plot.show()"
   ]
  },
  {
   "cell_type": "markdown",
   "id": "6dacca17",
   "metadata": {},
   "source": [
    "Il existe d'autres classificateurs. Nous allons maintenant travailler avec Perceptron"
   ]
  },
  {
   "cell_type": "code",
   "execution_count": null,
   "id": "f2ba83e2",
   "metadata": {},
   "outputs": [],
   "source": [
    "from sklearn.linear_model import Perceptron\n",
    "\n",
    "#apprentissage\n",
    "classifier = Perceptron(max_iter=1000)\n",
    "classifier.fit(training_images, training_target)\n",
    "  \n",
    "#prédiction\n",
    "for i in range(1, 5):\n",
    "    predict_image = digits.images[int(digits.images.shape[0]/2)+i]\n",
    "    print(\"La valeur prédite est de : \",\n",
    "          classifier.predict(predict_image.reshape(1,-1)))\n",
    "\n",
    "    plot.figure(figsize=(2,2))\n",
    "    plot.imshow(predict_image, cmap=plot.cm.gray_r)\n",
    "    plot.show()"
   ]
  },
  {
   "cell_type": "markdown",
   "id": "1b5a6ba8",
   "metadata": {},
   "source": [
    "Enfin, nous terminerons le test avec le Perceptron multicouche."
   ]
  },
  {
   "cell_type": "code",
   "execution_count": null,
   "id": "d4c23b9c",
   "metadata": {},
   "outputs": [],
   "source": [
    "from sklearn.neural_network import MLPClassifier\n",
    "\n",
    "#apprentissage\n",
    "classifier = MLPClassifier(alpha=2, max_iter=1000)\n",
    "classifier.fit(training_images, training_target)\n",
    "  \n",
    "#prédiction\n",
    "for i in range(1, 5):\n",
    "    predict_image = digits.images[int(digits.images.shape[0]/2)+i]\n",
    "    print(\"La valeur prédite est de : \",\n",
    "          classifier.predict(predict_image.reshape(1,-1)))\n",
    "\n",
    "    plot.figure(figsize=(2,2))\n",
    "    plot.imshow(predict_image, cmap=plot.cm.gray_r)\n",
    "    plot.show()"
   ]
  },
  {
   "cell_type": "markdown",
   "id": "35e6b891",
   "metadata": {},
   "source": [
    "## Couleurs prédominantes\n",
    "\n",
    "Nous allons maintenant trouver 4 couleurs prédominantes dans une image."
   ]
  },
  {
   "cell_type": "code",
   "execution_count": null,
   "id": "03a8bc72",
   "metadata": {},
   "outputs": [],
   "source": [
    "from PIL import Image\n",
    "import numpy\n",
    "import math\n",
    "import matplotlib.pyplot as plot\n",
    "from sklearn.cluster import KMeans\n",
    "\n",
    "imgfile = Image.open(\"../images/flower.jpg\")\n",
    "numarray = numpy.array(imgfile.getdata(), numpy.uint8)\n",
    "\n",
    "clusters = KMeans(n_clusters = 4)\n",
    "clusters.fit(numarray)\n",
    "npbins = numpy.arange(0, 5)\n",
    "\n",
    "histogram = numpy.histogram(clusters.labels_, bins=npbins)\n",
    "labels = numpy.unique(clusters.labels_)\n",
    "barlist = plot.bar(labels, histogram[0])\n",
    "for i in range(4):\n",
    "    barlist[i].set_color('#%02x%02x%02x' % (\n",
    "    math.ceil(clusters.cluster_centers_[i][0]), \n",
    "        math.ceil(clusters.cluster_centers_[i][1]),\n",
    "    math.ceil(clusters.cluster_centers_[i][2])))\n",
    "plot.show()"
   ]
  },
  {
   "cell_type": "markdown",
   "id": "909eb904",
   "metadata": {},
   "source": [
    "Maintenant, nous allons trouver 2 à 12 couleurs prédominantes."
   ]
  },
  {
   "cell_type": "code",
   "execution_count": null,
   "id": "f10d741b",
   "metadata": {},
   "outputs": [],
   "source": [
    "from PIL import Image\n",
    "import numpy\n",
    "import math\n",
    "import matplotlib.pyplot as plot\n",
    "from sklearn.cluster import MiniBatchKMeans\n",
    "imgfile = Image.open(\"../images/flower.jpg\")\n",
    "numarray = numpy.array(imgfile.getdata(), numpy.uint8)\n",
    "X = []\n",
    "Y = []\n",
    "fig, axes = plot.subplots(nrows=5, ncols=2, figsize=(20,25))\n",
    "xaxis = 0\n",
    "yaxis = 0\n",
    "for x in range(2, 12):\n",
    "    cluster_count = x \n",
    "    \n",
    "    clusters = MiniBatchKMeans(n_clusters = cluster_count)\n",
    "    clusters.fit(numarray)\n",
    "    \n",
    "    npbins = numpy.arange(0, cluster_count + 1)\n",
    "    histogram = numpy.histogram(clusters.labels_, bins=npbins)\n",
    "    labels = numpy.unique(clusters.labels_)\n",
    "    barlist = axes[xaxis, yaxis].bar(labels, histogram[0])\n",
    "    if(yaxis == 0):\n",
    "        yaxis = 1\n",
    "    else:\n",
    "        xaxis = xaxis + 1\n",
    "        yaxis = 0\n",
    "    for i in range(cluster_count):\n",
    "        barlist[i].set_color('#%02x%02x%02x' % (\n",
    "        math.ceil(clusters.cluster_centers_[i][0]),\n",
    "            math.ceil(clusters.cluster_centers_[i][1]), \n",
    "        math.ceil(clusters.cluster_centers_[i][2])))\n",
    "plot.show()"
   ]
  },
  {
   "cell_type": "markdown",
   "id": "43964ec5",
   "metadata": {},
   "source": [
    "Votre prochain exercice consiste à télécharger 5 images et à trouver leurs couleurs prédominantes."
   ]
  },
  {
   "cell_type": "code",
   "execution_count": null,
   "id": "23e906c8",
   "metadata": {},
   "outputs": [],
   "source": []
  }
 ],
 "metadata": {
  "kernelspec": {
   "display_name": "Python 3",
   "language": "python",
   "name": "python3"
  },
  "language_info": {
   "codemirror_mode": {
    "name": "ipython",
    "version": 3
   },
   "file_extension": ".py",
   "mimetype": "text/x-python",
   "name": "python",
   "nbconvert_exporter": "python",
   "pygments_lexer": "ipython3",
   "version": "3.8.5"
  }
 },
 "nbformat": 4,
 "nbformat_minor": 5
}
